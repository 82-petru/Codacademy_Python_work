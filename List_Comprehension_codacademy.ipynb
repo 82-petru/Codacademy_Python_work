{
 "cells": [
  {
   "cell_type": "markdown",
   "metadata": {},
   "source": [
    "## List Comprehension"
   ]
  },
  {
   "cell_type": "markdown",
   "metadata": {},
   "source": [
    "List comprehension are the easiest way to create lists. \n",
    "\n",
    "How it works? Syntax below:\n",
    "list_name = [element for element in range(1, 10]--> result would be a list of elements from 0 to 9 10 is excluded\n",
    "\n",
    "working_list = []--> list for computation \n",
    "\n",
    "list_name  = [element * value for element in working_list]--> result a list of computed elements \n",
    "\n",
    "We can do more complicated operation such as multiplication or division "
   ]
  },
  {
   "cell_type": "markdown",
   "metadata": {},
   "source": [
    "**Convert celcius to fahrenheit**"
   ]
  },
  {
   "cell_type": "code",
   "execution_count": 2,
   "metadata": {},
   "outputs": [
    {
     "data": {
      "text/plain": [
       "[23.0, 84.2, 78.80000000000001, 19.4, 33.8, 64.4, 53.6, 87.80000000000001]"
      ]
     },
     "execution_count": 2,
     "metadata": {},
     "output_type": "execute_result"
    }
   ],
   "source": [
    "temperatures = [-5, 29, 26, -7, 1, 18, 12, 31]\n",
    "temperature_F = [(9.0/5.0)*temp + 32 for temp in temperatures]\n",
    "temperature_F "
   ]
  },
  {
   "cell_type": "markdown",
   "metadata": {},
   "source": [
    "**Creating a list for x values**"
   ]
  },
  {
   "cell_type": "code",
   "execution_count": 10,
   "metadata": {},
   "outputs": [
    {
     "name": "stdout",
     "output_type": "stream",
     "text": [
      "[0, 1, 2, 3, 4, 5, 6, 7]\n"
     ]
    },
    {
     "data": {
      "image/png": "[encoded data removed]",
      "text/plain": [
       "<Figure size 432x288 with 1 Axes>"
      ]
     },
     "metadata": {
      "needs_background": "light"
     },
     "output_type": "display_data"
    }
   ],
   "source": [
    "import matplotlib.pyplot as plt \n",
    "temperatures = [-5, 29, 26, -7, 1, 18, 12, 31]\n",
    "x_values = [index for index in range(len(temperatures))]\n",
    "print(x_values)\n",
    "plt.plot(x_values, temperatures)\n",
    "plt.show()"
   ]
  },
  {
   "cell_type": "markdown",
   "metadata": {},
   "source": [
    "**Create a list to have 0 and 1 for each element in nums. For each element even should be 0 and for odd should turn 1**\n",
    "\n",
    "Using Modulo operator "
   ]
  },
  {
   "cell_type": "code",
   "execution_count": 39,
   "metadata": {},
   "outputs": [
    {
     "data": {
      "text/plain": [
       "[0, 0, 1, 0, 1, 0]"
      ]
     },
     "execution_count": 39,
     "metadata": {},
     "output_type": "execute_result"
    }
   ],
   "source": [
    "nums = [4, 8, 15, 16, 23, 42]\n",
    "parity = [i % 2 for i in nums]\n",
    "parity"
   ]
  },
  {
   "cell_type": "markdown",
   "metadata": {},
   "source": [
    "**Create a list that adds Hello in front of the name from the list**"
   ]
  },
  {
   "cell_type": "code",
   "execution_count": 13,
   "metadata": {},
   "outputs": [
    {
     "data": {
      "text/plain": [
       "['Hello, Elaine', 'Hello, George', 'Hello, Jerry', 'Hello, Cosmo']"
      ]
     },
     "execution_count": 13,
     "metadata": {},
     "output_type": "execute_result"
    }
   ],
   "source": [
    "names = [\"Elaine\", \"George\", \"Jerry\", \"Cosmo\"]\n",
    "greetings = [\"Hello, {}\".format(i) for i in names]\n",
    "greetings"
   ]
  },
  {
   "cell_type": "markdown",
   "metadata": {},
   "source": [
    "**String comparasion by using operator == and returns a list of True or False**"
   ]
  },
  {
   "cell_type": "code",
   "execution_count": 33,
   "metadata": {},
   "outputs": [
    {
     "data": {
      "text/plain": [
       "[False, False, True, False]"
      ]
     },
     "execution_count": 33,
     "metadata": {},
     "output_type": "execute_result"
    }
   ],
   "source": [
    "names = [\"Elaine\", \"George\", \"Jerry\", \"Cosmo\"]\n",
    "is_Jerry = [i == \"Jerry\"  for i in names]\n",
    "is_Jerry"
   ]
  },
  {
   "cell_type": "code",
   "execution_count": 34,
   "metadata": {},
   "outputs": [
    {
     "data": {
      "text/plain": [
       "[True, False, True, True, False]"
      ]
     },
     "execution_count": 34,
     "metadata": {},
     "output_type": "execute_result"
    }
   ],
   "source": [
    "nums = [5, -10, 40, 20, 0]\n",
    "greater = [i > 2 for i in nums]\n",
    "greater"
   ]
  },
  {
   "cell_type": "markdown",
   "metadata": {},
   "source": [
    "**Using multiple items on sub-lists with nested lists**\n",
    "\n",
    "when using list comprehension, sometimes the items in the list that you are iterating  through will be lists themselves! In these cases you can access multiple items in this way. You can use either 2 or more items."
   ]
  },
  {
   "cell_type": "code",
   "execution_count": 58,
   "metadata": {},
   "outputs": [
    {
     "data": {
      "text/plain": [
       "[7.06449510224598, 10.322473088990595, 14.882123497184569]"
      ]
     },
     "execution_count": 58,
     "metadata": {},
     "output_type": "execute_result"
    }
   ],
   "source": [
    "nested_lists = [[4, 8, 5], [15, 16, 6], [23, 42, 13]]\n",
    "product = [item1**0.5 + item2**0.5 + item3**0.5 for (item1, item2, item3) in nested_lists]\n",
    "product"
   ]
  },
  {
   "cell_type": "code",
   "execution_count": 41,
   "metadata": {},
   "outputs": [
    {
     "data": {
      "text/plain": [
       "[False, True, False]"
      ]
     },
     "execution_count": 41,
     "metadata": {},
     "output_type": "execute_result"
    }
   ],
   "source": [
    "#greater items \n",
    "nested_lists = [[4, 8], [16, 15], [23, 42]]\n",
    "greater_than = [item1 > item2 for item1, item2 in nested_lists]\n",
    "greater_than"
   ]
  },
  {
   "cell_type": "code",
   "execution_count": 42,
   "metadata": {},
   "outputs": [
    {
     "data": {
      "text/plain": [
       "[4, 16, 23]"
      ]
     },
     "execution_count": 42,
     "metadata": {},
     "output_type": "execute_result"
    }
   ],
   "source": [
    "#first item only\n",
    "nested = [[4, 8], [16, 15], [23, 42]]\n",
    "first_only = [item1 for item1, item2 in nested]\n",
    "first_only "
   ]
  },
  {
   "cell_type": "markdown",
   "metadata": {},
   "source": [
    "**Add with Zip**"
   ]
  },
  {
   "cell_type": "code",
   "execution_count": 44,
   "metadata": {},
   "outputs": [
    {
     "data": {
      "text/plain": [
       "[5.0, 7.0, 9.0]"
      ]
     },
     "execution_count": 44,
     "metadata": {},
     "output_type": "execute_result"
    }
   ],
   "source": [
    "#sum elements of two lists with zip \n",
    "a = [1.0, 2.0, 3.0]\n",
    "b = [4.0, 5.0, 6.0]\n",
    "sums = [i1 + i2 for i1, i2 in zip(a, b)]\n",
    "sums"
   ]
  },
  {
   "cell_type": "code",
   "execution_count": 46,
   "metadata": {},
   "outputs": [
    {
     "data": {
      "text/plain": [
       "[4.0, 2.5, 2.0]"
      ]
     },
     "execution_count": 46,
     "metadata": {},
     "output_type": "execute_result"
    }
   ],
   "source": [
    "#divide with zip \n",
    "a = [1.0, 2.0, 3.0]\n",
    "b = [4.0, 5.0, 6.0]\n",
    "divide = [i / o for i, o in zip(b, a)]\n",
    "divide"
   ]
  },
  {
   "cell_type": "code",
   "execution_count": 48,
   "metadata": {},
   "outputs": [
    {
     "data": {
      "text/plain": [
       "['Santiago, Chile', 'Paris, France', 'Copenhagen, Denmark']"
      ]
     },
     "execution_count": 48,
     "metadata": {},
     "output_type": "execute_result"
    }
   ],
   "source": [
    "#concatenate strings ex. 1\n",
    "capitals = [\"Santiago\", \"Paris\", \"Copenhagen\"]\n",
    "countries = [\"Chile\", \"France\", \"Denmark\"]\n",
    "locations = [i +','+' ' + o for i, o in zip(capitals, countries)]\n",
    "locations"
   ]
  },
  {
   "cell_type": "code",
   "execution_count": 49,
   "metadata": {},
   "outputs": [
    {
     "data": {
      "text/plain": [
       "['Santiago, Chile', 'Paris, France', 'Copenhagen, Denmark']"
      ]
     },
     "execution_count": 49,
     "metadata": {},
     "output_type": "execute_result"
    }
   ],
   "source": [
    "#concantenate strings ex. 2\n",
    "capitals = [\"Santiago\", \"Paris\", \"Copenhagen\"]\n",
    "countries = [\"Chile\", \"France\", \"Denmark\"]\n",
    "locations = [capitals[i] + ','+ ' ' + countries[i] for i in range(len(capitals))]\n",
    "locations"
   ]
  },
  {
   "cell_type": "code",
   "execution_count": 55,
   "metadata": {},
   "outputs": [
    {
     "data": {
      "text/plain": [
       "['Name: Jon, Age: 14', 'Name: Arya, Age: 9', 'Name: Ned, Age: 35']"
      ]
     },
     "execution_count": 55,
     "metadata": {},
     "output_type": "execute_result"
    }
   ],
   "source": [
    "#concatenate strings ex 3\n",
    "names = [\"Jon\", \"Arya\", \"Ned\"]\n",
    "ages = [14, 9, 35]\n",
    "users = [\"Name:\" + ' ' + i + ',' + ' ' + \"Age:\" + ' ' + str(o) for i, o in zip(names, ages)]\n",
    "users"
   ]
  },
  {
   "cell_type": "code",
   "execution_count": 56,
   "metadata": {},
   "outputs": [
    {
     "data": {
      "text/plain": [
       "[True, True, False]"
      ]
     },
     "execution_count": 56,
     "metadata": {},
     "output_type": "execute_result"
    }
   ],
   "source": [
    "#greater than using with zip, return list with false or true statement\n",
    "a = [30, 42, 10]\n",
    "b = [15, 16, 17]\n",
    "greater_than = [e > d for e, d in zip(a, b)]\n",
    "greater_than"
   ]
  },
  {
   "cell_type": "markdown",
   "metadata": {},
   "source": [
    "In this file of list comprehension syntax practiced these core Python concepts:\n",
    "Strings and substrings\n",
    "\n",
    "Getting characters from an index\n",
    "\n",
    "Boolean operators and comparators\n",
    "\n",
    "Mathematical operations\n",
    "\n",
    "String concatenation\n",
    "\n",
    "Casting from an integer to a string"
   ]
  }
 ],
 "metadata": {
  "kernelspec": {
   "display_name": "Python 3",
   "language": "python",
   "name": "python3"
  },
  "language_info": {
   "codemirror_mode": {
    "name": "ipython",
    "version": 3
   },
   "file_extension": ".py",
   "mimetype": "text/x-python",
   "name": "python",
   "nbconvert_exporter": "python",
   "pygments_lexer": "ipython3",
   "version": "3.7.4"
  }
 },
 "nbformat": 4,
 "nbformat_minor": 2
}
