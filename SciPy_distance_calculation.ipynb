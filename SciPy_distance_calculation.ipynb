{
 "cells": [
  {
   "cell_type": "code",
   "execution_count": 79,
   "metadata": {},
   "outputs": [
    {
     "name": "stdout",
     "output_type": "stream",
     "text": [
      "3.605551275463989\n"
     ]
    }
   ],
   "source": [
    "def eucledian_distance(pct1, pct2):\n",
    "    distance = 0 \n",
    "    for i in range(len(pct1)):\n",
    "        distance += (pct1[i] - pct2[i])**2\n",
    "    return distance ** 0.5 \n",
    "print(eucledian_distance([1, 2], [4, 0]))"
   ]
  },
  {
   "cell_type": "code",
   "execution_count": 81,
   "metadata": {},
   "outputs": [
    {
     "name": "stdout",
     "output_type": "stream",
     "text": [
      "5\n"
     ]
    }
   ],
   "source": [
    "def manhattan_distance(pct1, pct2):\n",
    "    distance = 0 \n",
    "    for i in range(len(pct1)):\n",
    "        distance += abs(pct1[i] - pct2[i])\n",
    "    return distance \n",
    "print(manhattan_distance([1, 2], [4, 0]))"
   ]
  },
  {
   "cell_type": "code",
   "execution_count": 83,
   "metadata": {},
   "outputs": [
    {
     "name": "stdout",
     "output_type": "stream",
     "text": [
      "2\n"
     ]
    }
   ],
   "source": [
    "def hamming_distance(pct1, pct2):\n",
    "    distance = 0 \n",
    "    for i in range(len(pct1)):\n",
    "        if pct1[i] != pct2[i]:\n",
    "            distance += 1\n",
    "    return distance\n",
    "print(hamming_distance([5, 4, 9], [1, 7, 9]))"
   ]
  },
  {
   "cell_type": "code",
   "execution_count": null,
   "metadata": {},
   "outputs": [],
   "source": []
  }
 ],
 "metadata": {
  "kernelspec": {
   "display_name": "Python 3",
   "language": "python",
   "name": "python3"
  },
  "language_info": {
   "codemirror_mode": {
    "name": "ipython",
    "version": 3
   },
   "file_extension": ".py",
   "mimetype": "text/x-python",
   "name": "python",
   "nbconvert_exporter": "python",
   "pygments_lexer": "ipython3",
   "version": "3.7.4"
  }
 },
 "nbformat": 4,
 "nbformat_minor": 2
}
