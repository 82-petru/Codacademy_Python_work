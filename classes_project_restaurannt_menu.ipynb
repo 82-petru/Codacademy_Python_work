{
 "cells": [
  {
   "cell_type": "code",
   "execution_count": 216,
   "metadata": {},
   "outputs": [],
   "source": [
    "#create the class for the restaurnt \n",
    "class Menu:\n",
    "    def __init__(self, name, items, start_time, end_time):\n",
    "        self.name = name\n",
    "        self.items = items\n",
    "        self.start_time = start_time\n",
    "        self.end_time = end_time\n",
    "\n",
    "#create a string representation that will tell you the name of the menu and when is available\n",
    "    def __repr__(self):\n",
    "        return \"{} menu available from {} to {}\".format(self.name, self.start_time, self.end_time)\n",
    "\n",
    "#method to calculate the price of purchased consisting \n",
    "    def calculate_bill(self, purchased_items):\n",
    "        bill = 0\n",
    "        for item in purchased_items:\n",
    "            if item in self.items:\n",
    "                bill += self.items[item]\n",
    "        return bill\n",
    "        "
   ]
  },
  {
   "cell_type": "code",
   "execution_count": 217,
   "metadata": {},
   "outputs": [],
   "source": [
    "#build a class for arepas \n",
    "class Business: \n",
    "    def __init__(self, name, franchises):\n",
    "        self.name = name\n",
    "        self.franchises = franchises"
   ]
  },
  {
   "cell_type": "code",
   "execution_count": 218,
   "metadata": {},
   "outputs": [],
   "source": [
    "#creating a franchise due to the success of first restaurant\n",
    "class Franchise:\n",
    "    def __init__(self, address, menus):\n",
    "        self.address = address\n",
    "        self.menus = menus\n",
    "        \n",
    "    def __repr__(self):\n",
    "        return \" There are two new franchise open along the country this is the address {} \".format(self.address)\n",
    "    \n",
    "    def available_menus(self, time):\n",
    "        self.time = time\n",
    "        available_time = []\n",
    "        for menu in self.menus:\n",
    "            if menu.start_time <= time and menu.end_time >= time:\n",
    "                available_time.append(menu)\n",
    "        return available_time"
   ]
  },
  {
   "cell_type": "code",
   "execution_count": 219,
   "metadata": {},
   "outputs": [],
   "source": [
    "brunch = Menu(\"brunch\", {'pancakes': 7.50, 'waffles': 9.00, 'burger': 11.00, 'home fries': 4.50, 'coffee': 1.50, 'espresso': 3.00, 'tea': 1.00, 'mimosa': 10.50, 'orange juice': 3.50}, 1100, 1600)\n",
    "\n",
    "earlybird = Menu(\"early bird\", {'salumeria plate': 8.00, 'salad and breadsticks (serves 2, no refills)': 14.00, 'pizza with quattro formaggi': 9.00, 'duck ragu': 17.50, 'mushroom ravioli (vegan)': 13.50, 'coffee': 1.50, 'espresso': 3.00}, 1500, 1800)\n",
    "\n",
    "dinner = Menu(\"dinner\", {'chicken nuggets': 6.50, 'fusilli with wild mushrooms': 12.00, 'apple juice': 3.00}, 1700, 2300)\n",
    "\n",
    "kids = Menu(\"kids\", {'chicken nuggets': 6.50, 'fusilli with wild mushrooms': 12.00, 'apple juice': 3.00}, 1100, 2100)"
   ]
  },
  {
   "cell_type": "code",
   "execution_count": 220,
   "metadata": {},
   "outputs": [],
   "source": [
    "menus_list = [brunch, earlybird, dinner, kids]\n",
    "flagship_store = Franchise(\"1232 West End Road\", menus_list)\n",
    "new_installment = Franchise(\"12 East Mulberry Street\", menus_list )"
   ]
  },
  {
   "cell_type": "code",
   "execution_count": 221,
   "metadata": {},
   "outputs": [],
   "source": [
    "arepa_list = [flagship_store, new_installment]\n",
    "arepa = Business(\"Basta Fazoolin' with my Heart\", arepa_list)\n",
    "arepas_menu = Menu(\"Take a arepa\", {'arepa pabellon': 7.00, 'pernil arepa': 8.50, 'guayanes arepa': 8.00, 'jamon arepa': 7.50}, 1000, 2000) "
   ]
  },
  {
   "cell_type": "code",
   "execution_count": 222,
   "metadata": {},
   "outputs": [
    {
     "name": "stdout",
     "output_type": "stream",
     "text": [
      "brunch menu available from 1100 to 1600\n"
     ]
    }
   ],
   "source": [
    "#try the string represenattion \n",
    "print(brunch)"
   ]
  },
  {
   "cell_type": "code",
   "execution_count": 224,
   "metadata": {},
   "outputs": [
    {
     "name": "stdout",
     "output_type": "stream",
     "text": [
      "8.0\n",
      "12.0\n"
     ]
    }
   ],
   "source": [
    "#try the calculate bill method\n",
    "order = ['salumeria plate', 'vegan mushroom ravioli']\n",
    "print(earlybird.calculate_bill(order))\n",
    "print(brunch.calculate_bill(['coffe', 'home fries', 'pancakes']))"
   ]
  },
  {
   "cell_type": "code",
   "execution_count": null,
   "metadata": {},
   "outputs": [],
   "source": [
    "#franchise string representation\n",
    "print(flagship_store)"
   ]
  },
  {
   "cell_type": "code",
   "execution_count": null,
   "metadata": {},
   "outputs": [],
   "source": [
    "#try method to find time available\n",
    "print(flagship_store.available_menus(1200))"
   ]
  },
  {
   "cell_type": "code",
   "execution_count": 225,
   "metadata": {},
   "outputs": [
    {
     "name": "stdout",
     "output_type": "stream",
     "text": [
      "Take a arepa\n"
     ]
    }
   ],
   "source": [
    "print(arepas_menu.name)"
   ]
  }
 ],
 "metadata": {
  "kernelspec": {
   "display_name": "Python 3",
   "language": "python",
   "name": "python3"
  },
  "language_info": {
   "codemirror_mode": {
    "name": "ipython",
    "version": 3
   },
   "file_extension": ".py",
   "mimetype": "text/x-python",
   "name": "python",
   "nbconvert_exporter": "python",
   "pygments_lexer": "ipython3",
   "version": "3.7.4"
  }
 },
 "nbformat": 4,
 "nbformat_minor": 2
}
