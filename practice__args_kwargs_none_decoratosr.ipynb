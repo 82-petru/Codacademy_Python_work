{
 "cells": [
  {
   "cell_type": "code",
   "execution_count": null,
   "metadata": {},
   "outputs": [],
   "source": [
    "import numpy as np\n",
    "import pandas as pd "
   ]
  },
  {
   "cell_type": "code",
   "execution_count": null,
   "metadata": {
    "scrolled": false
   },
   "outputs": [],
   "source": [
    "hours_studied = range(1, 20)\n",
    "x = hours_studied\n",
    "passed_exam = [0, 0, 0, 0, 0, 0, 0, 0, 0, 1, 1, 0, 0, 1, 1, 1, 1, 1, 1, 1]\n",
    "coefficient = 0.206\n",
    "intercept = -1.76\n",
    "sum(passed_exam)"
   ]
  },
  {
   "cell_type": "code",
   "execution_count": null,
   "metadata": {},
   "outputs": [],
   "source": [
    "obj = 1/2\n",
    "np.log(obj)"
   ]
  },
  {
   "cell_type": "code",
   "execution_count": null,
   "metadata": {},
   "outputs": [],
   "source": [
    "def get_intercept(c):\n",
    "    a = sum(c)\n",
    "    b = len(c) - a\n",
    "    obj1 = b - a\n",
    "    obj2 = 1 / obj1 \n",
    "    return np.log(obj2)\n",
    "get_intercept(passed_exam)"
   ]
  },
  {
   "cell_type": "code",
   "execution_count": null,
   "metadata": {},
   "outputs": [],
   "source": [
    "df = pd.DataFrame([[1,2,3]] * 3, columns = ['A', 'B', 'C'])\n",
    "df"
   ]
  },
  {
   "cell_type": "code",
   "execution_count": null,
   "metadata": {},
   "outputs": [],
   "source": [
    "df.apply(np.sum, axis = 0)"
   ]
  },
  {
   "cell_type": "code",
   "execution_count": null,
   "metadata": {},
   "outputs": [],
   "source": [
    "df.apply(lambda x: [3, 2, 3], axis=1)\n"
   ]
  },
  {
   "cell_type": "code",
   "execution_count": null,
   "metadata": {},
   "outputs": [],
   "source": [
    "x = lambda x: sum([1,2,3])\n",
    "print(x(\"orce argument\"))"
   ]
  },
  {
   "cell_type": "code",
   "execution_count": null,
   "metadata": {},
   "outputs": [],
   "source": [
    "#can't see it because has assigned None \n",
    "sesion = None \n",
    "if sesion:\n",
    "    print(\"gum\")\n",
    "else:\n",
    "    print(\"here i am\")"
   ]
  },
  {
   "cell_type": "code",
   "execution_count": null,
   "metadata": {},
   "outputs": [],
   "source": [
    "#you can check if something is none \n",
    "if sesion is None:\n",
    "    print(\"sesion is none\")"
   ]
  },
  {
   "cell_type": "code",
   "execution_count": null,
   "metadata": {},
   "outputs": [],
   "source": [
    "def fifty_percent_off(item):\n",
    "  # Check if item.cost exists\n",
    "  if hasattr(item, 'cost'):\n",
    "    return item.cost / 2\n",
    "\n",
    "print(fifty_percent_off(12))"
   ]
  },
  {
   "cell_type": "code",
   "execution_count": null,
   "metadata": {},
   "outputs": [],
   "source": [
    "#the required parameter  neet to occur before any parameter with a default argument, username and admin are default argument\n",
    "def create_user(username = None, admin = False):\n",
    "    if username is None:\n",
    "        username = \"Guest\" \n",
    "        return username \n",
    "    else:\n",
    "        return \"Return this value\"\n",
    "user1 = create_user('sslyan')\n",
    "user2 = create_user()\n",
    "print(user1)\n",
    "print(user2)"
   ]
  },
  {
   "cell_type": "code",
   "execution_count": null,
   "metadata": {},
   "outputs": [],
   "source": [
    "def get_id(html, website = \"cool things\"):\n",
    "    address1 = html + ' ' + website\n",
    "    return address1\n",
    "print(get_id(\"white\"))"
   ]
  },
  {
   "cell_type": "code",
   "execution_count": null,
   "metadata": {},
   "outputs": [],
   "source": [
    "#keyword arguments \"kwargs\" unlimited keyword parameters, result is a disctionary  \n",
    "def function1(**kwargs):\n",
    "    print(type(kwargs))\n",
    "    print(kwargs)\n",
    "    print(kwargs.get(\"anything_goes\"))# use dictionary .get() method to saftely retrive the keyword argument \n",
    "function1(this_arg=\"wowzers\", anything_goes=101)"
   ]
  },
  {
   "cell_type": "code",
   "execution_count": null,
   "metadata": {},
   "outputs": [],
   "source": [
    "#keyword arguments we do not need to keep the order if we pass the arguments with names of parameters\n",
    "#this is useful when the function have many optional default arguments \n",
    "def function2(logging_style=\"shout\", message=\"\", font=\"Times\", date=None):\n",
    "    if logging_style == \"shout\":\n",
    "        message = message.upper()\n",
    "        print(message, date) \n",
    "function2(message=\"Andreea te plac mult, iubito\", date=\"de un an jumatate\")"
   ]
  },
  {
   "cell_type": "code",
   "execution_count": null,
   "metadata": {},
   "outputs": [],
   "source": [
    "# mutable default argument, mutable objects like list or dictionary can be used \n",
    "def function3(lista = [], length = 1):\n",
    "    for num in range(length):\n",
    "        lista.append(num)\n",
    "    return lista\n",
    "print(function3(length = 9))"
   ]
  },
  {
   "cell_type": "code",
   "execution_count": null,
   "metadata": {},
   "outputs": [],
   "source": [
    "#if we cant use a lista as default argument, if we want an empty list we can use None\n",
    "def function4(books, current = None):\n",
    "    if current is None:\n",
    "        current = []\n",
    "    current.extend(books)\n",
    "    return current\n",
    "\n",
    "print(function4([\"petru\", \"pavel\"]))    "
   ]
  },
  {
   "cell_type": "code",
   "execution_count": null,
   "metadata": {},
   "outputs": [],
   "source": [
    "#positional argument unpacking, two mwthods for unpaching provided by python \n",
    "#first is by using single asterics \"*\" , example *args this parameter is a tuple of all the arguments passed\n",
    "def function5(*args):\n",
    "    for argument in args:\n",
    "        print(argument.upper())\n",
    "function5(\"hi\", \"what do we have here\", \"cool, thanks!\")     "
   ]
  },
  {
   "cell_type": "code",
   "execution_count": null,
   "metadata": {},
   "outputs": [],
   "source": [
    "#truncate function using aditional parameter\n",
    "def function6(length, *sentence):\n",
    "    for i in sentence:\n",
    "        print(i[: length])\n",
    "function6(6, \"What's going on here\", \"Looks like we've been cut off\")"
   ]
  },
  {
   "cell_type": "code",
   "execution_count": null,
   "metadata": {},
   "outputs": [],
   "source": [
    "#keyword argument unpacking python gives the power for unlimited keyword parameters **kwargs = keyword arguments\n",
    "#kwargs give us a dictionary with all the keyword arg passed to function \n",
    "#can be used when you want as output a dictionary, get() function is good when you wanr to retrieve keyord argument\n",
    "def function7(**kwargs):\n",
    "    print(kwargs)\n",
    "    print(kwargs.get(\"a\"))\n",
    "function7(a = \"casa\", b = \"sapun\", c = 5)\n"
   ]
  },
  {
   "cell_type": "code",
   "execution_count": null,
   "metadata": {},
   "outputs": [],
   "source": [
    "# keyword and positional unpacking using both args and kwargs, there is an ordering for that\n",
    "#An unpacked positional parameter (*args) unpacked = inseamna ca poate sa detina un nr nelimitat de parametri\n",
    "#An unpacked keyword parameter (**kwargs)\n",
    "#functia urmatoare le are pe toate\n",
    "def function8(filename, *args, user = None, **kwargs):\n",
    "    if user is None:\n",
    "        user = ''\n",
    "    if \"petru\" in args:\n",
    "        user = \" \".join(args)\n",
    "    if kwargs.get(\"a\"):\n",
    "        user = user + \" \" + kwargs.get(\"a\")\n",
    "    with open(filename, \"w\") as user_file:\n",
    "        user_file.write(user)\n",
    "\n",
    "print(function8(\"practice\", \"petru\", \"place\", a = \"sa manance cu multe enzime\" ))"
   ]
  },
  {
   "cell_type": "code",
   "execution_count": null,
   "metadata": {},
   "outputs": [],
   "source": [
    "def function9(*args):\n",
    "     if \"carne\" in args:\n",
    "        return args\n",
    "print(function9(\"placinta\", \"carne\", \"hartie\"))   "
   ]
  },
  {
   "cell_type": "code",
   "execution_count": null,
   "metadata": {},
   "outputs": [],
   "source": [
    "#passing containers as arguments, sequence of arguments inside a list \n",
    "def function10(*args):\n",
    "    print(' '.join(args))    \n",
    "printing = [\"eu\", \"plec\", \"la\", \"mare\", '23', \"may\"]\n",
    "long_list_of_args = [145, \"Mexico City\", 10.9, \"85C\"]\n",
    "#positional arguments are passed to the function\n",
    "function10(*printing)\n",
    "#function10(*long_list_of_args)"
   ]
  },
  {
   "cell_type": "code",
   "execution_count": null,
   "metadata": {},
   "outputs": [],
   "source": [
    "#passing containers as arguments similary for dictionary\n",
    "def function11(temperature=\"Warm\", flow=\"Medium\"):\n",
    "    return temperature, flow\n",
    "kwargs = {'temperature': 'Hot','flow': \"Slight\",}\n",
    "print(function11(**kwargs))"
   ]
  },
  {
   "cell_type": "code",
   "execution_count": null,
   "metadata": {},
   "outputs": [],
   "source": [
    "def add_signature_message(signature_message, list_of_paragraphs=[]):\n",
    "      list_of_paragraphs.append(signature_message)\n",
    "      return list_of_paragraphs\n",
    "print(add_signature_message(\"petru apachitei\"))\n"
   ]
  },
  {
   "cell_type": "code",
   "execution_count": null,
   "metadata": {},
   "outputs": [],
   "source": [
    "#print the statement in line \n",
    "def unite_args(*args):\n",
    "  new_string = \"\"\n",
    "  for arg in args:\n",
    "    new_string += arg\n",
    "  return new_string\n",
    "    \n",
    "print(unite_args(\"I'm \", \"here \", \"for \", \"this \"))"
   ]
  },
  {
   "cell_type": "code",
   "execution_count": null,
   "metadata": {},
   "outputs": [],
   "source": [
    "def return_translated_point(x, y, change_x, change_y):\n",
    "  return x + change_x, y + change_y\n",
    "\n",
    "a, b = return_translated_point(1, 2, 5, 8)\n",
    "print(b)"
   ]
  },
  {
   "cell_type": "code",
   "execution_count": null,
   "metadata": {},
   "outputs": [],
   "source": [
    "def item_summer(*args):\n",
    "  current_sum = 0\n",
    "  for arg in args:\n",
    "    current_sum += arg\n",
    "  return current_sum\n",
    "\n",
    "my_list = [5, 19, 23, 88]\n",
    "print(item_summer(*my_list))"
   ]
  },
  {
   "cell_type": "code",
   "execution_count": null,
   "metadata": {},
   "outputs": [],
   "source": [
    "drivers = {\"Petru\" : [80, 30], \"Cosmin\" : [90, 30], \"Ion\" : [110, 30], \"Vasile\" : [120, 40],  \"Stefan\" : [100, 35]}\n",
    "names = [ driver for driver in drivers]\n",
    "def calculate_speed(*driver, index):\n",
    "    lista = []\n",
    "    for name, item in drivers.items():\n",
    "        if name in driver:\n",
    "            lista.append(item[index])\n",
    "    return lista\n",
    "print(calculate_speed('Petru', 'Cosmin', 'Ion', 'Vasile', 'Stefan',index = 0))"
   ]
  },
  {
   "cell_type": "code",
   "execution_count": null,
   "metadata": {},
   "outputs": [],
   "source": [
    "#idea of wraping function \n",
    "def tittle(print_name_function):\n",
    "    def wrapped():\n",
    "        print(\"Profesor:\")\n",
    "        print_name_function()\n",
    "    return wrapped\n",
    "@tittle #shorten the code by not calling the tittle function will be done in background by python\n",
    "def print_name():\n",
    "    print(\"Petru\")\n",
    "print_name()\n",
    "#tittle(take as argument function print_name())"
   ]
  },
  {
   "cell_type": "code",
   "execution_count": null,
   "metadata": {},
   "outputs": [],
   "source": [
    "def tittle(print_name_function):\n",
    "    def wrapped(*arg, **kwargs):\n",
    "        print(\"Profesor:\")\n",
    "        print_name_function(*arg, **kwargs)\n",
    "    return wrapped\n",
    "@tittle #shorten the code by not calling the tittle function will be done in background by python\n",
    "def print_name(name, age):\n",
    "    print(name, age)\n",
    "print_name(\"Petru\", \"18 years\")"
   ]
  },
  {
   "cell_type": "code",
   "execution_count": null,
   "metadata": {},
   "outputs": [],
   "source": [
    "sakes = input(\"do you like snakes:\")\n",
    "if sakes == \"yes\":\n",
    "    print(\"you are programer\")\n",
    "else:\n",
    "    print(\"wrong answer\")"
   ]
  }
 ],
 "metadata": {
  "kernelspec": {
   "display_name": "Python 3",
   "language": "python",
   "name": "python3"
  },
  "language_info": {
   "codemirror_mode": {
    "name": "ipython",
    "version": 3
   },
   "file_extension": ".py",
   "mimetype": "text/x-python",
   "name": "python",
   "nbconvert_exporter": "python",
   "pygments_lexer": "ipython3",
   "version": "3.7.4"
  }
 },
 "nbformat": 4,
 "nbformat_minor": 2
}
